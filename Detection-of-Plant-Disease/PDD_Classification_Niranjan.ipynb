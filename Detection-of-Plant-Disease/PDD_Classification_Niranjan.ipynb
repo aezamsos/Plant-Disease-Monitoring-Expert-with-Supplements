{
 "cells": [
  {
   "cell_type": "code",
   "execution_count": 2,
   "metadata": {
    "colab": {
     "base_uri": "https://localhost:8080/"
    },
    "executionInfo": {
     "elapsed": 528989,
     "status": "ok",
     "timestamp": 1623172892175,
     "user": {
      "displayName": "Akella Niranjan",
      "photoUrl": "https://lh3.googleusercontent.com/a-/AOh14GiS0hDW7cYrcLRQ7IP_TVEsKTd1iwuhmSjd-QBh=s64",
      "userId": "10548223611542786095"
     },
     "user_tz": -330
    },
    "id": "pBUPYa6yQbVc",
    "outputId": "09742ccf-a326-47c5-919f-7b17e619285d"
   },
   "outputs": [],
   "source": [
    "# # Download a file based on its file ID.\r\n",
    "# file_id = '18DbC6Xj4NP-hLzI14WuMaAEyq482vNfn'\r\n",
    "\r\n",
    "# # Download dataset\r\n",
    "# !gdown https://drive.google.com/uc?id={file_id}\r\n",
    "\r\n",
    "# # Unzip the downloaded file\r\n",
    "# !unzip -q PlantVillage.zip"
   ]
  },
  {
   "cell_type": "code",
   "execution_count": 1,
   "metadata": {
    "executionInfo": {
     "elapsed": 9244,
     "status": "ok",
     "timestamp": 1623177820513,
     "user": {
      "displayName": "Akella Niranjan",
      "photoUrl": "https://lh3.googleusercontent.com/a-/AOh14GiS0hDW7cYrcLRQ7IP_TVEsKTd1iwuhmSjd-QBh=s64",
      "userId": "10548223611542786095"
     },
     "user_tz": -330
    },
    "id": "ckkfHCP7rJhi"
   },
   "outputs": [],
   "source": [
    "from tensorflow.keras.models import Sequential, Model\r\n",
    "from tensorflow.keras.layers import Conv2D,Activation,LeakyReLU,BatchNormalization,MaxPooling2D,Flatten,Dense,Dropout\r\n",
    "from tensorflow.keras.optimizers import Adam\r\n",
    "from tensorflow.keras import backend as K\r\n",
    "\r\n",
    "\r\n",
    "from tensorflow.keras.preprocessing import image\r\n",
    "from tensorflow.keras.preprocessing.image import ImageDataGenerator,img_to_array\r\n",
    "import xgboost as xgb\r\n",
    "import matplotlib.pyplot as plt\r\n",
    "import pandas as pd\r\n",
    "import numpy as np\r\n"
   ]
  },
  {
   "cell_type": "code",
   "execution_count": 2,
   "metadata": {
    "executionInfo": {
     "elapsed": 654,
     "status": "ok",
     "timestamp": 1623177821157,
     "user": {
      "displayName": "Akella Niranjan",
      "photoUrl": "https://lh3.googleusercontent.com/a-/AOh14GiS0hDW7cYrcLRQ7IP_TVEsKTd1iwuhmSjd-QBh=s64",
      "userId": "10548223611542786095"
     },
     "user_tz": -330
    },
    "id": "0Zqy61__Rn5L"
   },
   "outputs": [],
   "source": [
    "import pickle\n",
    "import cv2\n",
    "import os\n",
    "from os import listdir\n",
    "from sklearn.preprocessing import LabelBinarizer,MultiLabelBinarizer\n",
    "from sklearn.model_selection import train_test_split\n"
   ]
  },
  {
   "cell_type": "code",
   "execution_count": 9,
   "metadata": {},
   "outputs": [
    {
     "data": {
      "text/plain": [
       "['train', 'val']"
      ]
     },
     "execution_count": 9,
     "metadata": {},
     "output_type": "execute_result"
    }
   ],
   "source": [
    "root_dir = r'C:\\Users\\niran\\Desktop\\PDD_Algorithm\\PlantVillage'\r\n",
    "\r\n",
    "os.chdir(root_dir)\r\n",
    "listdir()"
   ]
  },
  {
   "cell_type": "code",
   "execution_count": 12,
   "metadata": {
    "executionInfo": {
     "elapsed": 371,
     "status": "ok",
     "timestamp": 1623177823254,
     "user": {
      "displayName": "Akella Niranjan",
      "photoUrl": "https://lh3.googleusercontent.com/a-/AOh14GiS0hDW7cYrcLRQ7IP_TVEsKTd1iwuhmSjd-QBh=s64",
      "userId": "10548223611542786095"
     },
     "user_tz": -330
    },
    "id": "GZ93_IycTZPa"
   },
   "outputs": [],
   "source": [
    "# Dimension of resized image\r\n",
    "DEFAULT_IMAGE_SIZE = tuple((256, 256))\r\n",
    "\r\n",
    "# Number of images used to train the model\r\n",
    "N_IMAGES = 100\r\n",
    "\r\n",
    "data_dir = os.path.join(root_dir,'train')\r\n",
    "\r\n",
    "\"\"\"We use the function `convert_image_to_array` to resize an image to the size `DEFAULT_IMAGE_SIZE` we defined above.\"\"\"\r\n",
    "\r\n",
    "def convert_image_to_array(image_dir):\r\n",
    "    try:\r\n",
    "        image = cv2.imread(image_dir)\r\n",
    "        if image is not None:\r\n",
    "            image = cv2.resize(image, DEFAULT_IMAGE_SIZE)   \r\n",
    "            return img_to_array(image)\r\n",
    "        else:\r\n",
    "            return np.array([])\r\n",
    "    except Exception as e:\r\n",
    "        print(f\"Error : {e}\")\r\n",
    "        return None"
   ]
  },
  {
   "cell_type": "code",
   "execution_count": 14,
   "metadata": {
    "colab": {
     "base_uri": "https://localhost:8080/"
    },
    "executionInfo": {
     "elapsed": 11,
     "status": "ok",
     "timestamp": 1623177825147,
     "user": {
      "displayName": "Akella Niranjan",
      "photoUrl": "https://lh3.googleusercontent.com/a-/AOh14GiS0hDW7cYrcLRQ7IP_TVEsKTd1iwuhmSjd-QBh=s64",
      "userId": "10548223611542786095"
     },
     "user_tz": -330
    },
    "id": "QIXPhJmoTvyv",
    "outputId": "ba34dd43-b38c-4d19-dddc-40a942cc26e5"
   },
   "outputs": [
    {
     "name": "stdout",
     "output_type": "stream",
     "text": [
      "Load images from all classes ...\n",
      "39\n"
     ]
    }
   ],
   "source": [
    "print(\"Load images from all classes ...\")\r\n",
    "plant_disease_folder_list = listdir(data_dir)\r\n",
    "print(len(plant_disease_folder_list))"
   ]
  },
  {
   "cell_type": "markdown",
   "metadata": {},
   "source": [
    "# Loading Training & Validation Data"
   ]
  },
  {
   "cell_type": "code",
   "execution_count": 15,
   "metadata": {
    "colab": {
     "base_uri": "https://localhost:8080/"
    },
    "executionInfo": {
     "elapsed": 10954,
     "status": "ok",
     "timestamp": 1623177838050,
     "user": {
      "displayName": "Akella Niranjan",
      "photoUrl": "https://lh3.googleusercontent.com/a-/AOh14GiS0hDW7cYrcLRQ7IP_TVEsKTd1iwuhmSjd-QBh=s64",
      "userId": "10548223611542786095"
     },
     "user_tz": -330
    },
    "id": "VgUTu7ZFTjaD",
    "outputId": "9fc82226-e80e-4e72-f852-86fab68e327e"
   },
   "outputs": [
    {
     "name": "stdout",
     "output_type": "stream",
     "text": [
      "Loding Image Data ...\n",
      "Processing  Apple___Apple_scab ...\n",
      "Processing  Apple___Black_rot ...\n",
      "Processing  Apple___Cedar_apple_rust ...\n",
      "Processing  Apple___healthy ...\n",
      "Processing  background ...\n",
      "Processing  Blueberry___healthy ...\n",
      "Processing  Cherry_(including_sour)___healthy ...\n",
      "Processing  Cherry_(including_sour)___Powdery_mildew ...\n",
      "Processing  Corn_(maize)___Cercospora_leaf_spot Gray_leaf_spot ...\n",
      "Processing  Corn_(maize)___Common_rust_ ...\n",
      "Processing  Corn_(maize)___healthy ...\n",
      "Processing  Corn_(maize)___Northern_Leaf_Blight ...\n",
      "Processing  Grape___Black_rot ...\n",
      "Processing  Grape___Esca_(Black_Measles) ...\n",
      "Processing  Grape___healthy ...\n",
      "Processing  Grape___Leaf_blight_(Isariopsis_Leaf_Spot) ...\n",
      "Processing  Orange___Haunglongbing_(Citrus_greening) ...\n",
      "Processing  Peach___Bacterial_spot ...\n",
      "Processing  Peach___healthy ...\n",
      "Processing  Pepper,_bell___Bacterial_spot ...\n",
      "Processing  Pepper,_bell___healthy ...\n",
      "Processing  Potato___Early_blight ...\n",
      "Processing  Potato___healthy ...\n",
      "Processing  Potato___Late_blight ...\n",
      "Processing  Raspberry___healthy ...\n",
      "Processing  Soybean___healthy ...\n",
      "Processing  Squash___Powdery_mildew ...\n",
      "Processing  Strawberry___healthy ...\n",
      "Processing  Strawberry___Leaf_scorch ...\n",
      "Processing  Tomato___Bacterial_spot ...\n",
      "Processing  Tomato___Early_blight ...\n",
      "Processing  Tomato___healthy ...\n",
      "Processing  Tomato___Late_blight ...\n",
      "Processing  Tomato___Leaf_Mold ...\n",
      "Processing  Tomato___Septoria_leaf_spot ...\n",
      "Processing  Tomato___Spider_mites Two-spotted_spider_mite ...\n",
      "Processing  Tomato___Target_Spot ...\n",
      "Processing  Tomato___Tomato_mosaic_virus ...\n",
      "Processing  Tomato___Tomato_Yellow_Leaf_Curl_Virus ...\n",
      "Processing  Apple___Apple_scab ...\n",
      "Processing  Apple___Black_rot ...\n",
      "Processing  Apple___Cedar_apple_rust ...\n",
      "Processing  Apple___healthy ...\n",
      "Processing  background ...\n",
      "Processing  Blueberry___healthy ...\n",
      "Processing  Cherry_(including_sour)___healthy ...\n",
      "Processing  Cherry_(including_sour)___Powdery_mildew ...\n",
      "Processing  Corn_(maize)___Cercospora_leaf_spot Gray_leaf_spot ...\n",
      "Processing  Corn_(maize)___Common_rust_ ...\n",
      "Processing  Corn_(maize)___healthy ...\n",
      "Processing  Corn_(maize)___Northern_Leaf_Blight ...\n",
      "Processing  Grape___Black_rot ...\n",
      "Processing  Grape___Esca_(Black_Measles) ...\n",
      "Processing  Grape___healthy ...\n",
      "Processing  Grape___Leaf_blight_(Isariopsis_Leaf_Spot) ...\n",
      "Processing  Orange___Haunglongbing_(Citrus_greening) ...\n",
      "Processing  Peach___Bacterial_spot ...\n",
      "Processing  Peach___healthy ...\n",
      "Processing  Pepper,_bell___Bacterial_spot ...\n",
      "Processing  Pepper,_bell___healthy ...\n",
      "Processing  Potato___Early_blight ...\n",
      "Processing  Potato___healthy ...\n",
      "Processing  Potato___Late_blight ...\n",
      "Processing  Raspberry___healthy ...\n",
      "Processing  Soybean___healthy ...\n",
      "Processing  Squash___Powdery_mildew ...\n",
      "Processing  Strawberry___healthy ...\n",
      "Processing  Strawberry___Leaf_scorch ...\n",
      "Processing  Tomato___Bacterial_spot ...\n",
      "Processing  Tomato___Early_blight ...\n",
      "Processing  Tomato___healthy ...\n",
      "Processing  Tomato___Late_blight ...\n",
      "Processing  Tomato___Leaf_Mold ...\n",
      "Processing  Tomato___Septoria_leaf_spot ...\n",
      "Processing  Tomato___Spider_mites Two-spotted_spider_mite ...\n",
      "Processing  Tomato___Target_Spot ...\n",
      "Processing  Tomato___Tomato_mosaic_virus ...\n",
      "Processing  Tomato___Tomato_Yellow_Leaf_Curl_Virus ...\n",
      "All the images have successfully loaded!!\n"
     ]
    }
   ],
   "source": [
    "image_list, label_list = [], []\r\n",
    "\r\n",
    "try:\r\n",
    "    print(\"Loding Image Data ...\")\r\n",
    "    for s in listdir():\r\n",
    "        plant_disease_folder_list = listdir(s)\r\n",
    "\r\n",
    "        for plant_disease_folder in plant_disease_folder_list:\r\n",
    "            print(f\"Processing  {plant_disease_folder} ...\")\r\n",
    "            plant_disease_image_list = listdir(f\"{data_dir}/{plant_disease_folder}/\")\r\n",
    "\r\n",
    "            for image in plant_disease_image_list[:N_IMAGES]:\r\n",
    "                image_directory = f\"{data_dir}/{plant_disease_folder}/{image}\"\r\n",
    "                if image_directory.endswith(\".jpg\")==True or image_directory.endswith(\".JPG\")==True:\r\n",
    "                    image_list.append(convert_image_to_array(image_directory))\r\n",
    "                    label_list.append(plant_disease_folder)\r\n",
    "\r\n",
    "    print(\"All the images have successfully loaded!!\")  \r\n",
    "except Exception as e:\r\n",
    "    print(f\"Error : {e}\")"
   ]
  },
  {
   "cell_type": "code",
   "execution_count": 17,
   "metadata": {
    "colab": {
     "base_uri": "https://localhost:8080/"
    },
    "executionInfo": {
     "elapsed": 6,
     "status": "ok",
     "timestamp": 1623177838050,
     "user": {
      "displayName": "Akella Niranjan",
      "photoUrl": "https://lh3.googleusercontent.com/a-/AOh14GiS0hDW7cYrcLRQ7IP_TVEsKTd1iwuhmSjd-QBh=s64",
      "userId": "10548223611542786095"
     },
     "user_tz": -330
    },
    "id": "Cu2DGtVGW3r3",
    "outputId": "aebba22f-7a88-4210-88f1-43597cc48156"
   },
   "outputs": [
    {
     "name": "stdout",
     "output_type": "stream",
     "text": [
      "7800\n"
     ]
    }
   ],
   "source": [
    "print(len(image_list))"
   ]
  },
  {
   "cell_type": "code",
   "execution_count": 18,
   "metadata": {
    "colab": {
     "base_uri": "https://localhost:8080/"
    },
    "executionInfo": {
     "elapsed": 11984,
     "status": "ok",
     "timestamp": 1623177852520,
     "user": {
      "displayName": "Akella Niranjan",
      "photoUrl": "https://lh3.googleusercontent.com/a-/AOh14GiS0hDW7cYrcLRQ7IP_TVEsKTd1iwuhmSjd-QBh=s64",
      "userId": "10548223611542786095"
     },
     "user_tz": -330
    },
    "id": "AgXTKzClTjLY",
    "outputId": "f9aafeb2-f6c1-477f-dbfb-2a0dd52bf1be"
   },
   "outputs": [
    {
     "name": "stdout",
     "output_type": "stream",
     "text": [
      "Total number of images: 7800\n"
     ]
    }
   ],
   "source": [
    "# Transform the loaded training image data into numpy array\r\n",
    "np_image_list = np.array(image_list, dtype=np.float16) / 255.0\r\n",
    "\r\n",
    "# Check the number of images loaded for training\r\n",
    "image_len = len(image_list)\r\n",
    "print(f\"Total number of images: {image_len}\")"
   ]
  },
  {
   "cell_type": "markdown",
   "metadata": {},
   "source": [
    "# One-Hot Encoding the labels"
   ]
  },
  {
   "cell_type": "code",
   "execution_count": 19,
   "metadata": {
    "colab": {
     "base_uri": "https://localhost:8080/"
    },
    "executionInfo": {
     "elapsed": 16,
     "status": "ok",
     "timestamp": 1623177852520,
     "user": {
      "displayName": "Akella Niranjan",
      "photoUrl": "https://lh3.googleusercontent.com/a-/AOh14GiS0hDW7cYrcLRQ7IP_TVEsKTd1iwuhmSjd-QBh=s64",
      "userId": "10548223611542786095"
     },
     "user_tz": -330
    },
    "id": "15EUEA6dUjAb",
    "outputId": "60702bd3-a1bb-4940-a20e-7fd42d9cdcd7"
   },
   "outputs": [
    {
     "name": "stdout",
     "output_type": "stream",
     "text": [
      "Total number of classes:  39\n"
     ]
    }
   ],
   "source": [
    "\"\"\"Examine the labels/classes in the training dataset.\"\"\"\r\n",
    "\r\n",
    "label_binarizer = LabelBinarizer()\r\n",
    "image_labels = label_binarizer.fit_transform(label_list)\r\n",
    "\r\n",
    "# pickle.dump(label_binarizer,open('plant_disease_label_transform.pkl', 'wb'))\r\n",
    "n_classes = len(label_binarizer.classes_)\r\n",
    "\r\n",
    "print(\"Total number of classes: \", n_classes)"
   ]
  },
  {
   "cell_type": "code",
   "execution_count": 20,
   "metadata": {
    "executionInfo": {
     "elapsed": 6,
     "status": "ok",
     "timestamp": 1623177852521,
     "user": {
      "displayName": "Akella Niranjan",
      "photoUrl": "https://lh3.googleusercontent.com/a-/AOh14GiS0hDW7cYrcLRQ7IP_TVEsKTd1iwuhmSjd-QBh=s64",
      "userId": "10548223611542786095"
     },
     "user_tz": -330
    },
    "id": "aofjXWyxTjCq"
   },
   "outputs": [],
   "source": [
    "\"\"\"# Augment and Split Dataset\n",
    "Using `ImageDataGenerator` to augment data by performing various operations on the training images.\n",
    "\"\"\"\n",
    "\n",
    "augment = ImageDataGenerator(rotation_range=25, width_shift_range=0.1,\n",
    "                             height_shift_range=0.1, shear_range=0.2, \n",
    "                             zoom_range=0.2, horizontal_flip=True, \n",
    "                             fill_mode=\"nearest\")"
   ]
  },
  {
   "cell_type": "code",
   "execution_count": 22,
   "metadata": {
    "colab": {
     "base_uri": "https://localhost:8080/"
    },
    "executionInfo": {
     "elapsed": 625,
     "status": "ok",
     "timestamp": 1623177853140,
     "user": {
      "displayName": "Akella Niranjan",
      "photoUrl": "https://lh3.googleusercontent.com/a-/AOh14GiS0hDW7cYrcLRQ7IP_TVEsKTd1iwuhmSjd-QBh=s64",
      "userId": "10548223611542786095"
     },
     "user_tz": -330
    },
    "id": "lQglwnzGYPA5",
    "outputId": "97d37b61-bf7a-4015-e0ea-5561fe1c54ab"
   },
   "outputs": [
    {
     "name": "stdout",
     "output_type": "stream",
     "text": [
      "Successfully split data into TRAIN & TEST\n"
     ]
    }
   ],
   "source": [
    "\"\"\"Splitting the data into training and test sets for validation purpose.\"\"\"\r\n",
    "\r\n",
    "x_train, x_test, y_train, y_test = train_test_split(np_image_list, image_labels, test_size=0.2, random_state = 42)\r\n",
    "print('Successfully split data into TRAIN & TEST')"
   ]
  },
  {
   "cell_type": "code",
   "execution_count": 23,
   "metadata": {
    "colab": {
     "base_uri": "https://localhost:8080/"
    },
    "executionInfo": {
     "elapsed": 6045,
     "status": "ok",
     "timestamp": 1623177873583,
     "user": {
      "displayName": "Akella Niranjan",
      "photoUrl": "https://lh3.googleusercontent.com/a-/AOh14GiS0hDW7cYrcLRQ7IP_TVEsKTd1iwuhmSjd-QBh=s64",
      "userId": "10548223611542786095"
     },
     "user_tz": -330
    },
    "id": "a6CiKlFzrIV2",
    "outputId": "e950556d-0b24-419e-a187-72af400f6884"
   },
   "outputs": [],
   "source": [
    "\"\"\"# Build Model\r\n",
    "Defining the hyperparameters of the plant disease classification model.\r\n",
    "\"\"\"\r\n",
    "\r\n",
    "EPOCHS = 10\r\n",
    "STEPS = 100\r\n",
    "LR = 1e-3\r\n",
    "BATCH_SIZE = 32\r\n",
    "WIDTH = 256\r\n",
    "HEIGHT = 256\r\n",
    "DEPTH = 3\r\n"
   ]
  },
  {
   "cell_type": "code",
   "execution_count": 24,
   "metadata": {},
   "outputs": [
    {
     "name": "stdout",
     "output_type": "stream",
     "text": [
      "Model: \"sequential\"\n",
      "_________________________________________________________________\n",
      "Layer (type)                 Output Shape              Param #   \n",
      "=================================================================\n",
      "conv2d (Conv2D)              (None, 256, 256, 32)      896       \n",
      "_________________________________________________________________\n",
      "leaky_re_lu (LeakyReLU)      (None, 256, 256, 32)      0         \n",
      "_________________________________________________________________\n",
      "batch_normalization (BatchNo (None, 256, 256, 32)      128       \n",
      "_________________________________________________________________\n",
      "max_pooling2d (MaxPooling2D) (None, 85, 85, 32)        0         \n",
      "_________________________________________________________________\n",
      "dropout (Dropout)            (None, 85, 85, 32)        0         \n",
      "_________________________________________________________________\n",
      "conv2d_1 (Conv2D)            (None, 85, 85, 64)        18496     \n",
      "_________________________________________________________________\n",
      "leaky_re_lu_1 (LeakyReLU)    (None, 85, 85, 64)        0         \n",
      "_________________________________________________________________\n",
      "batch_normalization_1 (Batch (None, 85, 85, 64)        256       \n",
      "_________________________________________________________________\n",
      "conv2d_2 (Conv2D)            (None, 85, 85, 64)        36928     \n",
      "_________________________________________________________________\n",
      "leaky_re_lu_2 (LeakyReLU)    (None, 85, 85, 64)        0         \n",
      "_________________________________________________________________\n",
      "batch_normalization_2 (Batch (None, 85, 85, 64)        256       \n",
      "_________________________________________________________________\n",
      "max_pooling2d_1 (MaxPooling2 (None, 42, 42, 64)        0         \n",
      "_________________________________________________________________\n",
      "dropout_1 (Dropout)          (None, 42, 42, 64)        0         \n",
      "_________________________________________________________________\n",
      "conv2d_3 (Conv2D)            (None, 42, 42, 128)       73856     \n",
      "_________________________________________________________________\n",
      "leaky_re_lu_3 (LeakyReLU)    (None, 42, 42, 128)       0         \n",
      "_________________________________________________________________\n",
      "batch_normalization_3 (Batch (None, 42, 42, 128)       512       \n",
      "_________________________________________________________________\n",
      "conv2d_4 (Conv2D)            (None, 42, 42, 128)       147584    \n",
      "_________________________________________________________________\n",
      "leaky_re_lu_4 (LeakyReLU)    (None, 42, 42, 128)       0         \n",
      "_________________________________________________________________\n",
      "batch_normalization_4 (Batch (None, 42, 42, 128)       512       \n",
      "_________________________________________________________________\n",
      "max_pooling2d_2 (MaxPooling2 (None, 21, 21, 128)       0         \n",
      "_________________________________________________________________\n",
      "dropout_2 (Dropout)          (None, 21, 21, 128)       0         \n",
      "_________________________________________________________________\n",
      "flatten (Flatten)            (None, 56448)             0         \n",
      "_________________________________________________________________\n",
      "my_dense (Dense)             (None, 1024)              57803776  \n",
      "_________________________________________________________________\n",
      "leaky_re_lu_5 (LeakyReLU)    (None, 1024)              0         \n",
      "_________________________________________________________________\n",
      "batch_normalization_5 (Batch (None, 1024)              4096      \n",
      "_________________________________________________________________\n",
      "dropout_3 (Dropout)          (None, 1024)              0         \n",
      "_________________________________________________________________\n",
      "dense (Dense)                (None, 39)                39975     \n",
      "_________________________________________________________________\n",
      "activation (Activation)      (None, 39)                0         \n",
      "=================================================================\n",
      "Total params: 58,127,271\n",
      "Trainable params: 58,124,391\n",
      "Non-trainable params: 2,880\n",
      "_________________________________________________________________\n"
     ]
    }
   ],
   "source": [
    "\"\"\"Creating a Sequential Model to build CNN for multi-class classification\"\"\"\r\n",
    "\r\n",
    "model = Sequential()\r\n",
    "inputShape = (HEIGHT, WIDTH, DEPTH)\r\n",
    "chanDim = -1\r\n",
    "\r\n",
    "if K.image_data_format() == \"channels_first\":\r\n",
    "    inputShape = (DEPTH, HEIGHT, WIDTH)\r\n",
    "    chanDim = 1\r\n",
    "\r\n",
    "model.add(Conv2D(32, (3, 3), padding=\"same\",input_shape=inputShape))\r\n",
    "model.add(LeakyReLU(alpha=0.1))\r\n",
    "model.add(BatchNormalization(axis=chanDim))\r\n",
    "model.add(MaxPooling2D(pool_size=(3, 3)))\r\n",
    "model.add(Dropout(0.25))\r\n",
    "\r\n",
    "model.add(Conv2D(64, (3, 3), padding=\"same\"))\r\n",
    "model.add(LeakyReLU(alpha=0.1))\r\n",
    "model.add(BatchNormalization(axis=chanDim))\r\n",
    "\r\n",
    "model.add(Conv2D(64, (3, 3), padding=\"same\"))\r\n",
    "model.add(LeakyReLU(alpha=0.1))\r\n",
    "model.add(BatchNormalization(axis=chanDim))\r\n",
    "model.add(MaxPooling2D(pool_size=(2, 2)))\r\n",
    "model.add(Dropout(0.25))\r\n",
    "\r\n",
    "model.add(Conv2D(128, (3, 3), padding=\"same\"))\r\n",
    "model.add(LeakyReLU(alpha=0.1))\r\n",
    "model.add(BatchNormalization(axis=chanDim))\r\n",
    "\r\n",
    "model.add(Conv2D(128, (3, 3), padding=\"same\"))\r\n",
    "model.add(LeakyReLU(alpha=0.1))\r\n",
    "model.add(BatchNormalization(axis=chanDim))\r\n",
    "model.add(MaxPooling2D(pool_size=(2, 2)))\r\n",
    "model.add(Dropout(0.25))\r\n",
    "\r\n",
    "model.add(Flatten())\r\n",
    "\r\n",
    "model.add(Dense(1024, name = 'my_dense'))\r\n",
    "model.add(LeakyReLU(alpha=0.1))\r\n",
    "model.add(BatchNormalization())\r\n",
    "model.add(Dropout(0.5))\r\n",
    "\r\n",
    "model.add(Dense(n_classes))\r\n",
    "model.add(Activation(\"softmax\"))\r\n",
    "\r\n",
    "model.summary()"
   ]
  },
  {
   "cell_type": "markdown",
   "metadata": {},
   "source": [
    "## Feature Extraction from the Dense Layer"
   ]
  },
  {
   "cell_type": "code",
   "execution_count": 25,
   "metadata": {
    "colab": {
     "base_uri": "https://localhost:8080/"
    },
    "executionInfo": {
     "elapsed": 458,
     "status": "ok",
     "timestamp": 1623177880481,
     "user": {
      "displayName": "Akella Niranjan",
      "photoUrl": "https://lh3.googleusercontent.com/a-/AOh14GiS0hDW7cYrcLRQ7IP_TVEsKTd1iwuhmSjd-QBh=s64",
      "userId": "10548223611542786095"
     },
     "user_tz": -330
    },
    "id": "lrPzn71H6Wdp",
    "outputId": "f5c28751-cf41-445c-b834-45aac23d36e4"
   },
   "outputs": [
    {
     "name": "stdout",
     "output_type": "stream",
     "text": [
      "Model: \"model\"\n",
      "_________________________________________________________________\n",
      "Layer (type)                 Output Shape              Param #   \n",
      "=================================================================\n",
      "conv2d_input (InputLayer)    [(None, 256, 256, 3)]     0         \n",
      "_________________________________________________________________\n",
      "conv2d (Conv2D)              (None, 256, 256, 32)      896       \n",
      "_________________________________________________________________\n",
      "leaky_re_lu (LeakyReLU)      (None, 256, 256, 32)      0         \n",
      "_________________________________________________________________\n",
      "batch_normalization (BatchNo (None, 256, 256, 32)      128       \n",
      "_________________________________________________________________\n",
      "max_pooling2d (MaxPooling2D) (None, 85, 85, 32)        0         \n",
      "_________________________________________________________________\n",
      "dropout (Dropout)            (None, 85, 85, 32)        0         \n",
      "_________________________________________________________________\n",
      "conv2d_1 (Conv2D)            (None, 85, 85, 64)        18496     \n",
      "_________________________________________________________________\n",
      "leaky_re_lu_1 (LeakyReLU)    (None, 85, 85, 64)        0         \n",
      "_________________________________________________________________\n",
      "batch_normalization_1 (Batch (None, 85, 85, 64)        256       \n",
      "_________________________________________________________________\n",
      "conv2d_2 (Conv2D)            (None, 85, 85, 64)        36928     \n",
      "_________________________________________________________________\n",
      "leaky_re_lu_2 (LeakyReLU)    (None, 85, 85, 64)        0         \n",
      "_________________________________________________________________\n",
      "batch_normalization_2 (Batch (None, 85, 85, 64)        256       \n",
      "_________________________________________________________________\n",
      "max_pooling2d_1 (MaxPooling2 (None, 42, 42, 64)        0         \n",
      "_________________________________________________________________\n",
      "dropout_1 (Dropout)          (None, 42, 42, 64)        0         \n",
      "_________________________________________________________________\n",
      "conv2d_3 (Conv2D)            (None, 42, 42, 128)       73856     \n",
      "_________________________________________________________________\n",
      "leaky_re_lu_3 (LeakyReLU)    (None, 42, 42, 128)       0         \n",
      "_________________________________________________________________\n",
      "batch_normalization_3 (Batch (None, 42, 42, 128)       512       \n",
      "_________________________________________________________________\n",
      "conv2d_4 (Conv2D)            (None, 42, 42, 128)       147584    \n",
      "_________________________________________________________________\n",
      "leaky_re_lu_4 (LeakyReLU)    (None, 42, 42, 128)       0         \n",
      "_________________________________________________________________\n",
      "batch_normalization_4 (Batch (None, 42, 42, 128)       512       \n",
      "_________________________________________________________________\n",
      "max_pooling2d_2 (MaxPooling2 (None, 21, 21, 128)       0         \n",
      "_________________________________________________________________\n",
      "dropout_2 (Dropout)          (None, 21, 21, 128)       0         \n",
      "_________________________________________________________________\n",
      "flatten (Flatten)            (None, 56448)             0         \n",
      "_________________________________________________________________\n",
      "my_dense (Dense)             (None, 1024)              57803776  \n",
      "=================================================================\n",
      "Total params: 58,083,200\n",
      "Trainable params: 58,082,368\n",
      "Non-trainable params: 832\n",
      "_________________________________________________________________\n"
     ]
    }
   ],
   "source": [
    "layer_name = 'my_dense'\r\n",
    "intermediate_layer_model = Model(inputs=model.input,outputs=model.get_layer(layer_name).output) \r\n",
    "intermediate_layer_model.summary()"
   ]
  },
  {
   "cell_type": "code",
   "execution_count": 26,
   "metadata": {
    "colab": {
     "base_uri": "https://localhost:8080/"
    },
    "executionInfo": {
     "elapsed": 826220,
     "status": "ok",
     "timestamp": 1623178709653,
     "user": {
      "displayName": "Akella Niranjan",
      "photoUrl": "https://lh3.googleusercontent.com/a-/AOh14GiS0hDW7cYrcLRQ7IP_TVEsKTd1iwuhmSjd-QBh=s64",
      "userId": "10548223611542786095"
     },
     "user_tz": -330
    },
    "id": "5FGRh6ojt96j",
    "outputId": "4cfa34e8-8760-4cca-e196-f02394234286"
   },
   "outputs": [
    {
     "name": "stdout",
     "output_type": "stream",
     "text": [
      "Training CNN...\n",
      "Epoch 1/20\n",
      "195/195 [==============================] - 108s 379ms/step - loss: 0.4214 - accuracy: 0.1059 - val_loss: 0.1297 - val_accuracy: 0.0276\n",
      "Epoch 2/20\n",
      "195/195 [==============================] - 76s 388ms/step - loss: 0.0951 - accuracy: 0.4194 - val_loss: 0.1158 - val_accuracy: 0.1891\n",
      "Epoch 3/20\n",
      "195/195 [==============================] - 74s 380ms/step - loss: 0.0703 - accuracy: 0.5747 - val_loss: 0.0823 - val_accuracy: 0.4122\n",
      "Epoch 4/20\n",
      "195/195 [==============================] - 75s 385ms/step - loss: 0.0593 - accuracy: 0.6404 - val_loss: 0.0705 - val_accuracy: 0.5724\n",
      "Epoch 5/20\n",
      "195/195 [==============================] - 74s 380ms/step - loss: 0.0504 - accuracy: 0.6998 - val_loss: 0.0795 - val_accuracy: 0.5321\n",
      "Epoch 6/20\n",
      "195/195 [==============================] - 74s 377ms/step - loss: 0.0437 - accuracy: 0.7441 - val_loss: 0.0766 - val_accuracy: 0.5827\n",
      "Epoch 7/20\n",
      "195/195 [==============================] - 73s 374ms/step - loss: 0.0388 - accuracy: 0.7753 - val_loss: 0.0814 - val_accuracy: 0.5660\n",
      "Epoch 8/20\n",
      "195/195 [==============================] - 72s 369ms/step - loss: 0.0338 - accuracy: 0.8074 - val_loss: 0.0745 - val_accuracy: 0.5936\n",
      "Epoch 9/20\n",
      "195/195 [==============================] - 71s 362ms/step - loss: 0.0315 - accuracy: 0.8277 - val_loss: 0.0457 - val_accuracy: 0.7359\n",
      "Epoch 10/20\n",
      "195/195 [==============================] - 72s 366ms/step - loss: 0.0295 - accuracy: 0.8401 - val_loss: 0.0849 - val_accuracy: 0.5481\n",
      "Epoch 11/20\n",
      "195/195 [==============================] - 70s 360ms/step - loss: 0.0265 - accuracy: 0.8614 - val_loss: 0.0474 - val_accuracy: 0.7109\n",
      "Epoch 12/20\n",
      "195/195 [==============================] - 70s 359ms/step - loss: 0.0240 - accuracy: 0.8740 - val_loss: 0.0442 - val_accuracy: 0.7526\n",
      "Epoch 13/20\n",
      "195/195 [==============================] - 70s 356ms/step - loss: 0.0226 - accuracy: 0.8902 - val_loss: 0.0259 - val_accuracy: 0.8660\n",
      "Epoch 14/20\n",
      "195/195 [==============================] - 70s 357ms/step - loss: 0.0214 - accuracy: 0.8920 - val_loss: 0.1363 - val_accuracy: 0.4596\n",
      "Epoch 15/20\n",
      "195/195 [==============================] - 69s 355ms/step - loss: 0.0193 - accuracy: 0.9071 - val_loss: 0.1077 - val_accuracy: 0.6237\n",
      "Epoch 16/20\n",
      "195/195 [==============================] - 69s 352ms/step - loss: 0.0184 - accuracy: 0.9106 - val_loss: 0.0631 - val_accuracy: 0.6827\n",
      "Epoch 17/20\n",
      "195/195 [==============================] - 70s 359ms/step - loss: 0.0175 - accuracy: 0.9141 - val_loss: 0.0810 - val_accuracy: 0.6609\n",
      "Epoch 18/20\n",
      "195/195 [==============================] - 70s 356ms/step - loss: 0.0167 - accuracy: 0.9228 - val_loss: 0.0466 - val_accuracy: 0.7692\n",
      "Epoch 19/20\n",
      "195/195 [==============================] - 70s 357ms/step - loss: 0.0152 - accuracy: 0.9316 - val_loss: 0.0737 - val_accuracy: 0.6558\n",
      "Epoch 20/20\n",
      "195/195 [==============================] - 69s 351ms/step - loss: 0.0143 - accuracy: 0.9346 - val_loss: 0.0782 - val_accuracy: 0.6462\n",
      "49/49 [==============================] - 4s 82ms/step - loss: 0.0782 - accuracy: 0.6462\n",
      "Test Accuracy: 64.61538672447205\n"
     ]
    }
   ],
   "source": [
    "\"\"\"# Train Model\r\n",
    "We initialize Adam optimizer with learning rate and decay parameters. \r\n",
    "Also, we choose the type of loss and metrics for the model and compile it for training.\r\n",
    "\"\"\"\r\n",
    "\r\n",
    "# steps_per_epoch=len(x_train) // BATCH_SIZE,\r\n",
    "\r\n",
    "# Initialize optimizer\r\n",
    "opt = Adam(learning_rate=LR, decay=LR / EPOCHS)\r\n",
    "\r\n",
    "# Compile model\r\n",
    "model.compile(loss=\"binary_crossentropy\", optimizer=opt, metrics=[\"accuracy\"])\r\n",
    "\r\n",
    "# Train model\r\n",
    "print(\"Training CNN...\")\r\n",
    "history = model.fit(augment.flow(x_train, y_train, batch_size=BATCH_SIZE),\r\n",
    "                              validation_data=(x_test, y_test),\r\n",
    "                              epochs=20, \r\n",
    "                              verbose=1)\r\n",
    "        \r\n",
    "scores = model.evaluate(x_test, y_test)\r\n",
    "print(f\"Test Accuracy: {scores[1]*100}\")\r\n"
   ]
  },
  {
   "cell_type": "code",
   "execution_count": 27,
   "metadata": {},
   "outputs": [
    {
     "data": {
      "image/png": "[encoded data removed]",
      "text/plain": [
       "<Figure size 432x288 with 1 Axes>"
      ]
     },
     "metadata": {
      "needs_background": "light"
     },
     "output_type": "display_data"
    },
    {
     "data": {
      "image/png": "[encoded data removed]",
      "text/plain": [
       "<Figure size 432x288 with 1 Axes>"
      ]
     },
     "metadata": {
      "needs_background": "light"
     },
     "output_type": "display_data"
    },
    {
     "name": "stdout",
     "output_type": "stream",
     "text": [
      "[INFO] Calculating model accuracy\n",
      "49/49 [==============================] - 4s 88ms/step - loss: 0.0782 - accuracy: 0.6462\n",
      "Test Accuracy: 64.61538672447205\n"
     ]
    }
   ],
   "source": [
    "\"\"\"# Evaluate Model\r\n",
    "Comparing the accuracy and loss by plotting the graph for training and validation.\r\n",
    "\"\"\"\r\n",
    "\r\n",
    "acc = history.history['accuracy']\r\n",
    "val_acc = history.history['val_accuracy']\r\n",
    "loss = history.history['loss']\r\n",
    "val_loss = history.history['val_loss']\r\n",
    "epochs = range(1, len(acc) + 1)\r\n",
    "\r\n",
    "# Train and validation accuracy\r\n",
    "plt.plot(epochs, acc, 'b', label='Training accurarcy')\r\n",
    "plt.plot(epochs, val_acc, 'r', label='Validation accurarcy')\r\n",
    "plt.title('Training and Validation accurarcy')\r\n",
    "plt.legend()\r\n",
    "\r\n",
    "plt.figure()\r\n",
    "\r\n",
    "# Train and validation loss\r\n",
    "plt.plot(epochs, loss, 'b', label='Training loss')\r\n",
    "plt.plot(epochs, val_loss, 'r', label='Validation loss')\r\n",
    "plt.title('Training and Validation loss')\r\n",
    "plt.legend()\r\n",
    "plt.show()\r\n",
    "\r\n",
    "\"\"\"Evaluating model accuracy by using the `evaluate` method\"\"\"\r\n",
    "\r\n",
    "print(\"[INFO] Calculating model accuracy\")\r\n",
    "scores = model.evaluate(x_test, y_test)\r\n",
    "print(f\"Test Accuracy: {scores[1]*100}\")"
   ]
  },
  {
   "cell_type": "code",
   "execution_count": 28,
   "metadata": {},
   "outputs": [],
   "source": [
    "#Saving the Model\r\n",
    "\r\n",
    "# model.save('PDD_completemodel')\r\n",
    "# model.save('PDD_completemodel.h5')\r\n",
    "# intermediate_layer_model.save('PDD_IntermediateModel')\r\n",
    "# intermediate_layer_model.save('PDD_IntermediateModel.h5')"
   ]
  },
  {
   "cell_type": "code",
   "execution_count": 31,
   "metadata": {
    "id": "Xr2hsdio8hkz"
   },
   "outputs": [
    {
     "name": "stdout",
     "output_type": "stream",
     "text": [
      "(1560, 1024)\n"
     ]
    }
   ],
   "source": [
    "x_train_predict = intermediate_layer_model.predict(x_train)\r\n",
    "# print(x_train_predict.shape)\r\n",
    "\r\n",
    "x_test_predict = intermediate_layer_model.predict(x_test)\r\n",
    "print(x_test_predict.shape)"
   ]
  },
  {
   "cell_type": "markdown",
   "metadata": {},
   "source": [
    "# Support Vector Machine\r\n",
    "\r\n",
    "Integration of CNN with Support Vector Machine."
   ]
  },
  {
   "cell_type": "code",
   "execution_count": 32,
   "metadata": {},
   "outputs": [
    {
     "name": "stdout",
     "output_type": "stream",
     "text": [
      "SVM Fit Complete\n"
     ]
    }
   ],
   "source": [
    "from sklearn.svm import SVC\r\n",
    "\r\n",
    "svm = SVC(kernel='rbf')\r\n",
    "\r\n",
    "svm.fit(x_train_predict,np.argmax(y_train,axis=1))\r\n",
    "\r\n",
    "print('SVM Fit Complete')"
   ]
  },
  {
   "cell_type": "code",
   "execution_count": 60,
   "metadata": {},
   "outputs": [
    {
     "data": {
      "text/plain": [
       "0.986698717948718"
      ]
     },
     "execution_count": 60,
     "metadata": {},
     "output_type": "execute_result"
    }
   ],
   "source": [
    "svm.score(x_train_predict,np.argmax(y_train,axis=1))"
   ]
  },
  {
   "cell_type": "code",
   "execution_count": 33,
   "metadata": {},
   "outputs": [
    {
     "data": {
      "text/plain": [
       "0.9634615384615385"
      ]
     },
     "execution_count": 33,
     "metadata": {},
     "output_type": "execute_result"
    }
   ],
   "source": [
    "svm.score(x_test_predict,np.argmax(y_test,axis=1))\r\n",
    "\r\n",
    "#Save the SVM model in pickle file\r\n",
    "# pickle.dump(svm,open('svms.pkl', 'wb'))"
   ]
  },
  {
   "cell_type": "code",
   "execution_count": 35,
   "metadata": {},
   "outputs": [
    {
     "data": {
      "text/html": [
       "<div>\n",
       "<style scoped>\n",
       "    .dataframe tbody tr th:only-of-type {\n",
       "        vertical-align: middle;\n",
       "    }\n",
       "\n",
       "    .dataframe tbody tr th {\n",
       "        vertical-align: top;\n",
       "    }\n",
       "\n",
       "    .dataframe thead th {\n",
       "        text-align: right;\n",
       "    }\n",
       "</style>\n",
       "<table border=\"1\" class=\"dataframe\">\n",
       "  <thead>\n",
       "    <tr style=\"text-align: right;\">\n",
       "      <th></th>\n",
       "      <th>0</th>\n",
       "    </tr>\n",
       "  </thead>\n",
       "  <tbody>\n",
       "    <tr>\n",
       "      <th>0</th>\n",
       "      <td>20</td>\n",
       "    </tr>\n",
       "    <tr>\n",
       "      <th>1</th>\n",
       "      <td>19</td>\n",
       "    </tr>\n",
       "    <tr>\n",
       "      <th>2</th>\n",
       "      <td>10</td>\n",
       "    </tr>\n",
       "    <tr>\n",
       "      <th>3</th>\n",
       "      <td>14</td>\n",
       "    </tr>\n",
       "    <tr>\n",
       "      <th>4</th>\n",
       "      <td>1</td>\n",
       "    </tr>\n",
       "  </tbody>\n",
       "</table>\n",
       "</div>"
      ],
      "text/plain": [
       "    0\n",
       "0  20\n",
       "1  19\n",
       "2  10\n",
       "3  14\n",
       "4   1"
      ]
     },
     "execution_count": 35,
     "metadata": {},
     "output_type": "execute_result"
    }
   ],
   "source": [
    "Pred_labels = svm.predict(x_test_predict)\r\n",
    "Pred_labels = pd.DataFrame(Pred_labels,index =None)\r\n",
    "Pred_labels.head()"
   ]
  },
  {
   "cell_type": "markdown",
   "metadata": {},
   "source": [
    "# XGBoost Integration\r\n",
    "\r\n",
    "Integrating the CNN model with Extreme Gradient Boost algorithm."
   ]
  },
  {
   "cell_type": "code",
   "execution_count": 36,
   "metadata": {},
   "outputs": [
    {
     "name": "stdout",
     "output_type": "stream",
     "text": [
      "[01:15:35] WARNING: C:/Users/Administrator/workspace/xgboost-win64_release_1.4.0/src/learner.cc:1095: Starting in XGBoost 1.3.0, the default evaluation metric used with the objective 'multi:softprob' was changed from 'merror' to 'mlogloss'. Explicitly set eval_metric if you'd like to restore the old behavior.\n",
      "XGBoost Fit Complete\n"
     ]
    }
   ],
   "source": [
    "import xgboost as xgb\r\n",
    "\r\n",
    "xb = xgb.XGBClassifier(use_label_encoder=False)\r\n",
    "\r\n",
    "xb.fit(x_train_predict,np.argmax(y_train,axis=1))\r\n",
    "\r\n",
    "print('XGBoost Fit Complete')\r\n",
    "\r\n",
    "#Save XGBoost Model\r\n",
    "# pickle.dump(xb,open('xgb_model.pkl','wb'))"
   ]
  },
  {
   "cell_type": "code",
   "execution_count": 37,
   "metadata": {},
   "outputs": [
    {
     "data": {
      "text/plain": [
       "1.0"
      ]
     },
     "execution_count": 37,
     "metadata": {},
     "output_type": "execute_result"
    }
   ],
   "source": [
    "xb.score(x_train_predict,np.argmax(y_train,axis=1))"
   ]
  },
  {
   "cell_type": "code",
   "execution_count": 38,
   "metadata": {},
   "outputs": [
    {
     "data": {
      "text/plain": [
       "0.9756410256410256"
      ]
     },
     "execution_count": 38,
     "metadata": {},
     "output_type": "execute_result"
    }
   ],
   "source": [
    "xb.score(x_test_predict,np.argmax(y_test,axis=1))"
   ]
  },
  {
   "cell_type": "code",
   "execution_count": 13,
   "metadata": {},
   "outputs": [],
   "source": [
    "# from tensorflow.keras.models import load_model\r\n",
    "\r\n",
    "# ai = load_model('D:\\PDD_Models\\HDF5\\PDD_Intermediatemodel.h5')\r\n",
    "# xgb_model = xgb.XGBClassifier()\r\n",
    "# xgb_model.load_model(r'D:\\PDD_Models\\xgb_model.json')\r\n",
    "\r\n",
    "# x2 = ai.predict(x_test)\r\n",
    "# xgb_model.score(x_test_predict,np.argmax(y_test,axis=1))"
   ]
  },
  {
   "cell_type": "markdown",
   "metadata": {},
   "source": [
    "# Further Scope of Improvement\r\n",
    "\r\n",
    "- Image processing techniques can be implemented before approaching the CNN's input layer\r\n",
    "- Developing a Real-Time PDD [Plant Disease Detection] system using Opencv\r\n",
    "- Improving the Validation Loss \r\n",
    "- Wider scope of data augmentation & manipulation for better performance\r\n",
    "- Integrating CNN with other architectures\r\n",
    "- Hyperparameter tunning\r\n",
    "- Additional Datasets\r\n",
    "- Front End development [Django, Flask, HTML+CSS+JS, Kotlin, Java, Swift, Flutter]\r\n",
    "- Cross Platform application development \r\n",
    "- Deploying the AI model onto Companion computers for real-time application "
   ]
  }
 ],
 "metadata": {
  "accelerator": "GPU",
  "colab": {
   "authorship_tag": "ABX9TyMYnTMjyEbKj3D0r2HxMd9C",
   "name": "Plant_Disease_Detection.ipynb",
   "provenance": []
  },
  "interpreter": {
   "hash": "64c1db036c245e91d1c2d164e41aef3f7526caa4d16da4bd1475087c34dc1c7b"
  },
  "kernelspec": {
   "display_name": "Python 3.8.10 64-bit ('DL': conda)",
   "name": "python3"
  },
  "language_info": {
   "name": "python",
   "version": ""
  }
 },
 "nbformat": 4,
 "nbformat_minor": 4
}
